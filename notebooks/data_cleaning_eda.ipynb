{
 "cells": [
  {
   "cell_type": "code",
   "execution_count": 1,
   "metadata": {},
   "outputs": [],
   "source": [
    "import numpy as np\n",
    "import pandas as pd\n",
    "import matplotlib.pyplot as plt\n",
    "import seaborn as sns\n",
    "import arff\n",
    "import os"
   ]
  },
  {
   "cell_type": "code",
   "execution_count": 2,
   "metadata": {},
   "outputs": [
    {
     "data": {
      "text/html": [
       "<div>\n",
       "<style scoped>\n",
       "    .dataframe tbody tr th:only-of-type {\n",
       "        vertical-align: middle;\n",
       "    }\n",
       "\n",
       "    .dataframe tbody tr th {\n",
       "        vertical-align: top;\n",
       "    }\n",
       "\n",
       "    .dataframe thead th {\n",
       "        text-align: right;\n",
       "    }\n",
       "</style>\n",
       "<table border=\"1\" class=\"dataframe\">\n",
       "  <thead>\n",
       "    <tr style=\"text-align: right;\">\n",
       "      <th></th>\n",
       "      <th>IDpol</th>\n",
       "      <th>ClaimNb</th>\n",
       "      <th>Exposure</th>\n",
       "      <th>Area</th>\n",
       "      <th>VehPower</th>\n",
       "      <th>VehAge</th>\n",
       "      <th>DrivAge</th>\n",
       "      <th>BonusMalus</th>\n",
       "      <th>VehBrand</th>\n",
       "      <th>VehGas</th>\n",
       "      <th>Density</th>\n",
       "      <th>Region</th>\n",
       "      <th>ClaimAmount</th>\n",
       "    </tr>\n",
       "  </thead>\n",
       "  <tbody>\n",
       "    <tr>\n",
       "      <th>0</th>\n",
       "      <td>1.0</td>\n",
       "      <td>1.0</td>\n",
       "      <td>0.10</td>\n",
       "      <td>D</td>\n",
       "      <td>5.0</td>\n",
       "      <td>0.0</td>\n",
       "      <td>55.0</td>\n",
       "      <td>50.0</td>\n",
       "      <td>B12</td>\n",
       "      <td>Regular</td>\n",
       "      <td>1217.0</td>\n",
       "      <td>R82</td>\n",
       "      <td>NaN</td>\n",
       "    </tr>\n",
       "    <tr>\n",
       "      <th>1</th>\n",
       "      <td>3.0</td>\n",
       "      <td>1.0</td>\n",
       "      <td>0.77</td>\n",
       "      <td>D</td>\n",
       "      <td>5.0</td>\n",
       "      <td>0.0</td>\n",
       "      <td>55.0</td>\n",
       "      <td>50.0</td>\n",
       "      <td>B12</td>\n",
       "      <td>Regular</td>\n",
       "      <td>1217.0</td>\n",
       "      <td>R82</td>\n",
       "      <td>NaN</td>\n",
       "    </tr>\n",
       "    <tr>\n",
       "      <th>2</th>\n",
       "      <td>5.0</td>\n",
       "      <td>1.0</td>\n",
       "      <td>0.75</td>\n",
       "      <td>B</td>\n",
       "      <td>6.0</td>\n",
       "      <td>2.0</td>\n",
       "      <td>52.0</td>\n",
       "      <td>50.0</td>\n",
       "      <td>B12</td>\n",
       "      <td>Diesel</td>\n",
       "      <td>54.0</td>\n",
       "      <td>R22</td>\n",
       "      <td>NaN</td>\n",
       "    </tr>\n",
       "    <tr>\n",
       "      <th>3</th>\n",
       "      <td>10.0</td>\n",
       "      <td>1.0</td>\n",
       "      <td>0.09</td>\n",
       "      <td>B</td>\n",
       "      <td>7.0</td>\n",
       "      <td>0.0</td>\n",
       "      <td>46.0</td>\n",
       "      <td>50.0</td>\n",
       "      <td>B12</td>\n",
       "      <td>Diesel</td>\n",
       "      <td>76.0</td>\n",
       "      <td>R72</td>\n",
       "      <td>NaN</td>\n",
       "    </tr>\n",
       "    <tr>\n",
       "      <th>4</th>\n",
       "      <td>11.0</td>\n",
       "      <td>1.0</td>\n",
       "      <td>0.84</td>\n",
       "      <td>B</td>\n",
       "      <td>7.0</td>\n",
       "      <td>0.0</td>\n",
       "      <td>46.0</td>\n",
       "      <td>50.0</td>\n",
       "      <td>B12</td>\n",
       "      <td>Diesel</td>\n",
       "      <td>76.0</td>\n",
       "      <td>R72</td>\n",
       "      <td>NaN</td>\n",
       "    </tr>\n",
       "  </tbody>\n",
       "</table>\n",
       "</div>"
      ],
      "text/plain": [
       "   IDpol  ClaimNb  Exposure Area  VehPower  VehAge  DrivAge  BonusMalus  \\\n",
       "0    1.0      1.0      0.10    D       5.0     0.0     55.0        50.0   \n",
       "1    3.0      1.0      0.77    D       5.0     0.0     55.0        50.0   \n",
       "2    5.0      1.0      0.75    B       6.0     2.0     52.0        50.0   \n",
       "3   10.0      1.0      0.09    B       7.0     0.0     46.0        50.0   \n",
       "4   11.0      1.0      0.84    B       7.0     0.0     46.0        50.0   \n",
       "\n",
       "  VehBrand   VehGas  Density Region  ClaimAmount  \n",
       "0      B12  Regular   1217.0    R82          NaN  \n",
       "1      B12  Regular   1217.0    R82          NaN  \n",
       "2      B12   Diesel     54.0    R22          NaN  \n",
       "3      B12   Diesel     76.0    R72          NaN  \n",
       "4      B12   Diesel     76.0    R72          NaN  "
      ]
     },
     "execution_count": 2,
     "metadata": {},
     "output_type": "execute_result"
    }
   ],
   "source": [
    "# Load the data.\n",
    "\n",
    "dir_path = os.path.dirname(os.getcwd())\n",
    "freq_data_path = os.path.join(dir_path, 'data/freMTPL2freq.arff')\n",
    "sev_data_path = os.path.join(dir_path, 'data/freMTPL2sev.arff')\n",
    "\n",
    "with open(freq_data_path) as f:\n",
    "    freq_data = arff.load(f)\n",
    "freq_df = pd.DataFrame(data=freq_data['data'], columns=[a[0] for a in freq_data['attributes']])\n",
    "\n",
    "with open(sev_data_path) as f:\n",
    "    sev_data = arff.load(f)\n",
    "sev_df = pd.DataFrame(data=sev_data['data'], columns=[a[0] for a in sev_data['attributes']])\n",
    "\n",
    "# Merge the frequency and severity data. \n",
    "df = pd.merge(freq_df, sev_df, on='IDpol', how='left')\n",
    "\n",
    "# Convert the byte columns to categories.\n",
    "for col in df.select_dtypes([object]):\n",
    "    df[col] = df[col].apply(lambda x: x.decode() if isinstance(x, bytes) else x)\n",
    "    df[col] = df[col].astype('category')\n",
    "\n",
    "# Show the first rows.\n",
    "df.head()"
   ]
  },
  {
   "cell_type": "code",
   "execution_count": null,
   "metadata": {},
   "outputs": [
    {
     "name": "stdout",
     "output_type": "stream",
     "text": [
      "<class 'pandas.core.frame.DataFrame'>\n",
      "RangeIndex: 679513 entries, 0 to 679512\n",
      "Data columns (total 13 columns):\n",
      " #   Column       Non-Null Count   Dtype   \n",
      "---  ------       --------------   -----   \n",
      " 0   IDpol        679513 non-null  float64 \n",
      " 1   ClaimNb      679513 non-null  float64 \n",
      " 2   Exposure     679513 non-null  float64 \n",
      " 3   Area         679513 non-null  category\n",
      " 4   VehPower     679513 non-null  float64 \n",
      " 5   VehAge       679513 non-null  float64 \n",
      " 6   DrivAge      679513 non-null  float64 \n",
      " 7   BonusMalus   679513 non-null  float64 \n",
      " 8   VehBrand     679513 non-null  category\n",
      " 9   VehGas       679513 non-null  category\n",
      " 10  Density      679513 non-null  float64 \n",
      " 11  Region       679513 non-null  category\n",
      " 12  ClaimAmount  26444 non-null   float64 \n",
      "dtypes: category(4), float64(9)\n",
      "memory usage: 49.3 MB\n"
     ]
    }
   ],
   "source": [
    "# Check if there are missing values.\n",
    "df.info()"
   ]
  },
  {
   "cell_type": "code",
   "execution_count": 7,
   "metadata": {},
   "outputs": [],
   "source": [
    "df = df.rename(columns={\n",
    "    'ClaimNb': 'n_claims',\n",
    "    'Exposure': 'exposure',\n",
    "    'DrivAge': 'driver_age',\n",
    "    'VehAge': 'vehicle_age',\n",
    "    'BonusMalus': 'bonus_malus',\n",
    "    'Density': 'density',\n",
    "    'Area': 'area',\n",
    "    'VehPower': 'vehicle_power',\n",
    "    'VehBrand': 'vehicle_brand',\n",
    "    'VehGas': 'vehicle_gas',\n",
    "    'Region': 'region',\n",
    "    'ClaimAmount': 'claim_amount'\n",
    "    })"
   ]
  },
  {
   "cell_type": "code",
   "execution_count": 8,
   "metadata": {},
   "outputs": [
    {
     "data": {
      "text/plain": [
       "Index(['IDpol', 'n_claims', 'exposure', 'area', 'vehicle_power', 'vehicle_age',\n",
       "       'driver_age', 'bonus_malus', 'vehicle_brand', 'vehicle_gas', 'density',\n",
       "       'region', 'claim_amount'],\n",
       "      dtype='object')"
      ]
     },
     "execution_count": 8,
     "metadata": {},
     "output_type": "execute_result"
    }
   ],
   "source": [
    "df.columns"
   ]
  },
  {
   "cell_type": "code",
   "execution_count": 25,
   "metadata": {},
   "outputs": [
    {
     "name": "stdout",
     "output_type": "stream",
     "text": [
      "False False False\n"
     ]
    }
   ],
   "source": [
    "# Sanity checks. We can see other features' validity from OpenML\n",
    "print(((df['driver_age']<18) | (df['driver_age'] > 100)).any(),\n",
    "    (df['density']<0).any(),\n",
    "    (df['exposure'] <= 0).any()\n",
    "    )\n",
    "     "
   ]
  },
  {
   "cell_type": "code",
   "execution_count": 26,
   "metadata": {},
   "outputs": [],
   "source": [
    "df['frequency'] = df['n_claims'] / df['exposure']\n"
   ]
  },
  {
   "cell_type": "code",
   "execution_count": 28,
   "metadata": {},
   "outputs": [
    {
     "name": "stdout",
     "output_type": "stream",
     "text": [
      "<class 'pandas.core.frame.DataFrame'>\n",
      "RangeIndex: 678013 entries, 0 to 678012\n",
      "Data columns (total 13 columns):\n",
      " #   Column         Non-Null Count   Dtype   \n",
      "---  ------         --------------   -----   \n",
      " 0   IDpol          678013 non-null  float64 \n",
      " 1   n_claims       678013 non-null  float64 \n",
      " 2   exposure       678013 non-null  float64 \n",
      " 3   area           678013 non-null  category\n",
      " 4   vehicle_power  678013 non-null  float64 \n",
      " 5   vehicle_age    678013 non-null  float64 \n",
      " 6   driver_age     678013 non-null  float64 \n",
      " 7   bonus_malus    678013 non-null  float64 \n",
      " 8   vehicle_brand  678013 non-null  category\n",
      " 9   vehicle_gas    678013 non-null  category\n",
      " 10  density        678013 non-null  float64 \n",
      " 11  region         678013 non-null  category\n",
      " 12  frequency      678013 non-null  float64 \n",
      "dtypes: category(4), float64(9)\n",
      "memory usage: 49.1 MB\n"
     ]
    }
   ],
   "source": [
    "df.info()"
   ]
  },
  {
   "cell_type": "code",
   "execution_count": null,
   "metadata": {},
   "outputs": [],
   "source": []
  }
 ],
 "metadata": {
  "kernelspec": {
   "display_name": "venv",
   "language": "python",
   "name": "python3"
  },
  "language_info": {
   "codemirror_mode": {
    "name": "ipython",
    "version": 3
   },
   "file_extension": ".py",
   "mimetype": "text/x-python",
   "name": "python",
   "nbconvert_exporter": "python",
   "pygments_lexer": "ipython3",
   "version": "3.10.12"
  }
 },
 "nbformat": 4,
 "nbformat_minor": 2
}
